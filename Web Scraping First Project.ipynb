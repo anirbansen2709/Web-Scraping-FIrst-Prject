{
 "cells": [
  {
   "cell_type": "code",
   "execution_count": 4,
   "metadata": {},
   "outputs": [],
   "source": [
    "from bs4 import BeautifulSoup\n",
    "import urllib.request\n",
    "import csv"
   ]
  },
  {
   "cell_type": "code",
   "execution_count": 5,
   "metadata": {},
   "outputs": [],
   "source": [
    "urlpage = 'http://www.fasttrack.co.uk/league-tables/tech-track-100/league-table/'"
   ]
  },
  {
   "cell_type": "code",
   "execution_count": 6,
   "metadata": {},
   "outputs": [],
   "source": [
    "page = urllib.request.urlopen(urlpage)\n",
    "soup = BeautifulSoup(page, 'html.parser')"
   ]
  },
  {
   "cell_type": "code",
   "execution_count": 7,
   "metadata": {},
   "outputs": [
    {
     "name": "stdout",
     "output_type": "stream",
     "text": [
      "No of results 101\n"
     ]
    }
   ],
   "source": [
    "table = soup.find('table', attrs = {'class':'tableSorter' })\n",
    "results = table.find_all('tr')\n",
    "print('No of results', len(results))"
   ]
  },
  {
   "cell_type": "code",
   "execution_count": 8,
   "metadata": {},
   "outputs": [
    {
     "name": "stdout",
     "output_type": "stream",
     "text": [
      "[['Rank', 'Company', 'Website', 'Description', 'Location', 'Year end', 'Annual sales rise over 3 years', 'Latest sales £000s', 'Staff', ' Comment']]\n"
     ]
    }
   ],
   "source": [
    "rows = []\n",
    "rows.append(['Rank','Company','Website','Description','Location','Year end','Annual sales rise over 3 years','Latest sales £000s', 'Staff',' Comment'])\n",
    "print(rows)"
   ]
  },
  {
   "cell_type": "code",
   "execution_count": 9,
   "metadata": {},
   "outputs": [],
   "source": [
    "for result in results:\n",
    "    data = result.find_all('td')\n",
    "    if len(data) == 0:\n",
    "        continue\n",
    "    rank = data[0].getText()\n",
    "    company = data[1].getText()\n",
    "    location = data[2].getText()\n",
    "    yearend = data[3].getText()\n",
    "    salesrise = data[4].getText()\n",
    "    sales = data[5].getText()\n",
    "    staff = data[6].getText()\n",
    "    comment = data[7].getText()\n",
    "    companyName = data[1].find('span',attrs = {'class':'company-name'}).getText()\n",
    "    description = company.replace(companyName, \"\")\n",
    "    sales = sales.strip('*').strip('†').replace(',','')\n",
    "    url = data[1].find('a').get('href')\n",
    "    companypage = urllib.request.urlopen(url)\n",
    "    soup = BeautifulSoup(companypage, 'html.parser')\n",
    "    try:\n",
    "        tablerow = soup.find('table').find_all('tr')[-1]\n",
    "        website = tablerow.find('a').get('href')\n",
    "    except:\n",
    "        website = None\n",
    "    rows.append([rank,companyName,website,description,location,yearend,salesrise,sales,staff,comment])"
   ]
  },
  {
   "cell_type": "code",
   "execution_count": 10,
   "metadata": {},
   "outputs": [],
   "source": [
    "with open('techtrack100.csv','w',newline='') as f_output:\n",
    "    csv_output = csv.writer(f_output)\n",
    "    csv_output.writerows(rows)"
   ]
  }
 ],
 "metadata": {
  "kernelspec": {
   "display_name": "Python 3",
   "language": "python",
   "name": "python3"
  },
  "language_info": {
   "codemirror_mode": {
    "name": "ipython",
    "version": 3
   },
   "file_extension": ".py",
   "mimetype": "text/x-python",
   "name": "python",
   "nbconvert_exporter": "python",
   "pygments_lexer": "ipython3",
   "version": "3.7.0"
  }
 },
 "nbformat": 4,
 "nbformat_minor": 2
}
